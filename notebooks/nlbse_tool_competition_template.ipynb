{
 "cells": [
  {
   "cell_type": "markdown",
   "metadata": {
    "id": "7_hygdPU5W_V"
   },
   "source": [
    "# NLBSE'22 Tool Competition"
   ]
  },
  {
   "cell_type": "markdown",
   "metadata": {
    "id": "1I4mhLmA3DNK"
   },
   "source": [
    "### Introduction\n",
    "\n",
    "The first edition of the NLBSE’22 tool competition is on automatic **issue report classification**, an important task in issue management and prioritization.\n",
    "\n",
    "For the competition, we provide a dataset encompassing more than 800k labeled issue reports (as bugs, enhancements, and questions) extracted from real open-source projects. You are invited to leverage this dataset for evaluating your classification approaches and compare the achieved results against a proposed baseline approach (based on FastText).\n"
   ]
  },
  {
   "cell_type": "markdown",
   "metadata": {
    "id": "zsUc3t_34TdX"
   },
   "source": [
    "### Participation\n",
    "\n",
    "If you want to participate, you must:\n",
    "* Train and tune a multi-label classifier using the provided [training set](https://tickettagger.blob.core.windows.net/datasets/github-labels-top3-803k-train.tar.gz).\n",
    "* Evaluate your classifier on the provided [test set](https://tickettagger.blob.core.windows.net/datasets/github-labels-top3-803k-test.tar.gz)\n",
    "* Write a paper (4 pages max.) describing:\n",
    "    * The architecture and details of the classifier\n",
    "    * The procedure used to pre-process the data\n",
    "    * The procedure used to tune the classifier on the training set\n",
    "    * The results of your classifier on the test set\n",
    "    * Additional info.: provide a link to your code/tool with proper documentation on how to run it\n",
    "* **Submit the paper** by the deadline (see below). **Email the paper to the tool competition organizers**: Oscar Chaparro (oscarch@wm.edu) and Rafael Kallis (rk@rafaelkallis.com) \n",
    "\n",
    "All submissions must conform to the [ICSE’22 formatting and submission instructions](https://conf.researchr.org/track/icse-2022/icse-2022-papers#how-to-submit).\n",
    "\n",
    "Papers do not need to be double-blinded."
   ]
  },
  {
   "cell_type": "markdown",
   "metadata": {
    "id": "Zaa_4h0m4Q3F"
   },
   "source": [
    "### Important dates\n",
    "\n",
    "* Paper/tool submission: **February 21, 2022**\n",
    "* Acceptance and competition results notification: **March 4, 2022**\n",
    "* Camera-ready paper submission: **March 18, 2022**\n",
    "\n",
    "All dates are anywhere on earth (AoE).\n",
    "\n"
   ]
  },
  {
   "cell_type": "markdown",
   "metadata": {
    "id": "IQSqb8W849eT"
   },
   "source": [
    "### Submission acceptance and competition\n",
    "\n",
    "Submissions will be evaluated and accepted based on **correctness** and **reproducibility**, defined by the following criteria:\n",
    "* Clarity and detail of the paper content\n",
    "* Availability of the code/tool, including the training/tuning/evaluation pipeline, released as open-source\n",
    "* Correct training/tuning/evaluation of your code/tool on the provided data\n",
    "* Report the metrics and results we outline below\n",
    "* Clarity of the code documentation\n",
    "\n",
    "The accepted submissions will be published at the workshop proceedings.\n",
    "\n",
    "The submissions will be ranked based on the $F_1$ score (defined below) achieved by the proposed classifiers on the test set, as indicated in the papers.\n",
    "\n",
    "The submission with the highest $F_1$ score will be the winner of the competition."
   ]
  },
  {
   "cell_type": "markdown",
   "metadata": {
    "id": "lEb2msnb4IK3"
   },
   "source": [
    "### Referencing\n",
    "\n",
    "Since you will be using our dataset (and possibly this Colab notebook) as well as the original work behind the dataset, please cite the following references in your paper:\n",
    "\n",
    "```\n",
    "@inproceedings{nlbse2022,\n",
    "  author={Kallis, Rafael and Chaparro, Oscar and Di Sorbo, Andrea and Panichella, Sebastiano},\n",
    "  title={NLBSE'22 Tool Competition},\n",
    "  booktitle={Proceedings of The 1st International Workshop on Natural Language-based Software Engineering (NLBSE'22)},\n",
    "  year={2022}\n",
    "}\n",
    "```\n",
    "\n",
    "```\n",
    "@article{ticket-tagger-scp,\n",
    "  author={Rafael Kallis and Andrea {Di Sorbo} and Gerardo Canfora and Sebastiano Panichella}\n",
    "  title={Predicting issue types on GitHub},\n",
    "  journal={Science of Computer Programming},\n",
    "  volume={205},\n",
    "  pages={102598},\n",
    "  year={2021},\n",
    "  issn={0167-6423},\n",
    "  doi={https://doi.org/10.1016/j.scico.2020.102598},\n",
    "  url={https://www.sciencedirect.com/science/article/pii/S0167642320302069}\n",
    "}\n",
    "  ```\n",
    "\n",
    "```\n",
    "@INPROCEEDINGS{ticket-tagger,\n",
    "  author={Kallis, Rafael and Di Sorbo, Andrea and Canfora, Gerardo and Panichella, Sebastiano},\n",
    "  booktitle={2019 IEEE International Conference on Software Maintenance and Evolution (ICSME)}, \n",
    "  title={Ticket Tagger: Machine Learning Driven Issue Classification}, \n",
    "  year={2019},\n",
    "  volume={},\n",
    "  number={},\n",
    "  pages={406-409},\n",
    "  doi={10.1109/ICSME.2019.00070}\n",
    "}\n",
    "  ```\n"
   ]
  },
  {
   "cell_type": "markdown",
   "metadata": {
    "id": "Bqd72brjg_D0"
   },
   "source": [
    "### Training \n",
    "\n",
    "You are provided a [training set](https://tickettagger.blob.core.windows.net/datasets/github-labels-top3-803k-train.tar.gz) encompassing more than 700,000 labeled issue reports extracted from real open source projects. \n",
    "\n",
    "Participants are free to select and transform variables from the training set as they please but **no new sources can be be added**.\n",
    "In other words, any inputs or features used to create the classifier, must be derived from the provided training set.\n",
    "Participants may preprocess, sample, apply over/under-sampling, select a subset of the attributes, perform feature-engineering, split the training set into a model-finetuning validation set, etc. Please contact us if you have any question about this.\n",
    "\n",
    "Each issue report contains the following metadata:\n",
    "- Label\n",
    "- Issue title\n",
    "- Issue body\n",
    "- Issue URL\n",
    "- Repository URL\n",
    "- Creation timestamp\n",
    "- Author association\n",
    "\n",
    "Each issue is labeled with one class that indicates the issue type, namely, bug, enhancement, and question.\n",
    "\n",
    "The distribution of (722,899) issues in the training set is:\n",
    "* bug:            361,239 (50%)\n",
    "* enhancement:    299,287 (41.4%)\n",
    "* question:        62,373 (8.6%)"
   ]
  },
  {
   "cell_type": "markdown",
   "metadata": {
    "id": "X5AuKnTLhH-A"
   },
   "source": [
    "### Evaluation \n",
    "\n",
    "> Note: for correct latex rendering, open this notebook in Collab.\n",
    "\n",
    "Submissions are evaluated based on their class-detection performance over the provided [test set](https://tickettagger.blob.core.windows.net/datasets/github-labels-top3-803k-test.tar.gz). \n",
    "\n",
    "The distribution of (80,518) issues in the test set:\n",
    "* bug:\t40,152\t(49.9%)\n",
    "* enhancement:\t33,290\t(41.3%)\n",
    "* question:\t7,076\t(8.8%)\n",
    "\n",
    "The evaluation must be performed on the entire test set only. **Important:** you may apply any preprocessing or feature engineering on this dataset except sampling, rebalancing, undersampling or oversampling techniques.\n",
    "\n",
    "Classification performance is measured using the $F_1$ score over all the three classes. \n",
    "\n",
    "A submission (i.e., paper) in the tool competition must provide:\n",
    "- Precision $P_c$ for each class $c$\n",
    "- Recall $R_c$, for each class $c$\n",
    "- $F_{1,c}$ score as the harmonic mean between $P_c$ and $R_c$, for each class $c$\n",
    "- Precision $P$, micro-averaged $P_c$\n",
    "- Recall $R$, micro-averaged $R_c$\n",
    "- $F_1$ score as the harmonic mean between $P$ and $R$\n",
    "\n",
    "These metrics are defined as follows:\n",
    "\\begin{align}\n",
    "P_c &= \\frac{ TP_c }{ TP_c + FP_c } & \n",
    "R_c &= \\frac{ TP_c }{ TP_c + FN_c } &\n",
    "F_{1,c} &= 2 \\cdot \\frac{ P_c \\cdot R_c }{ P_c + R_c }\\\\\n",
    "P &= \\frac{ \\sum_c TP_c }{ \\sum_c \\left( TP_c + FP_c \\right) } & \n",
    "R &= \\frac{ \\sum_c TP_c }{ \\sum_c \\left( TP_c + FN_c \\right) } &\n",
    "F_1 &= 2 \\cdot \\frac{ P \\cdot R }{ P + R }\n",
    "\\end{align}\n",
    "\n",
    "where $TP_c$, $FP_c$ and $FN_c$ represent true positives, false positives and false negatives over a class $c$, respectively.\n",
    "Micro-averaging was chosen as the cross-class aggregation method due to the class imbalance present in the data.\n",
    "\n",
    "Please note that whilst all of the above measures must be provided for acceptance, the submissions will **only** be ranked by their $F_1$ score."
   ]
  },
  {
   "cell_type": "markdown",
   "metadata": {
    "id": "jxudmnLlhNKZ"
   },
   "source": [
    "### Colab Notebook\n",
    "\n",
    "Colab notebooks provide a convenient format for publishing work and make it easier for readers to reproduce results. Colab provides an interactive Python runtime framework that can be accessed from a web browser. \n",
    "Colab requires no configuration, provides free access to GPUs and allows for easy sharing between collaborators.\n",
    "\n",
    "Participants can use a cloud-hosted infrastructure (recommended), connect to a local runtime or not use Colab at all. We do not impose any constraints on the technologies used. You can read more about Colab [here](https://colab.research.google.com/notebooks/intro.ipynb). An example of a GPU-accelerated Colab notebook can be found [here](https://colab.research.google.com/notebooks/gpu.ipynb).\n"
   ]
  },
  {
   "cell_type": "markdown",
   "metadata": {
    "id": "CcRw5oNigqxD"
   },
   "source": [
    "## Submission Template\n",
    "\n",
    "Participants are encouraged, but not required, to use the following code as a template for their submission. \n",
    "The example below trains a FastText model, which is provided as a baseline."
   ]
  },
  {
   "cell_type": "code",
   "execution_count": null,
   "metadata": {
    "id": "D59htf41Y-ia"
   },
   "outputs": [],
   "source": [
    "import os\n",
    "import time\n",
    "import numpy as np\n",
    "import pandas as pd\n",
    "import seaborn as sns\n",
    "import gensim\n",
    "import sklearn.metrics\n",
    "from tqdm.auto import tqdm"
   ]
  },
  {
   "cell_type": "code",
   "execution_count": null,
   "metadata": {
    "colab": {
     "base_uri": "https://localhost:8080/"
    },
    "id": "5YgmM-0t_jAu",
    "outputId": "a1d968b1-d5ac-4ca5-83c3-8abe9e2d32ac"
   },
   "outputs": [
    {
     "name": "stdout",
     "output_type": "stream",
     "text": [
      "Mounted at /content/drive\n"
     ]
    }
   ],
   "source": [
    "# persistent file storage\n",
    "# https://colab.research.google.com/notebooks/io.ipynb\n",
    "from google.colab import drive\n",
    "drive.mount('/content/drive')"
   ]
  },
  {
   "cell_type": "markdown",
   "metadata": {
    "id": "Iawj1udLVp4t"
   },
   "source": [
    "#### Training"
   ]
  },
  {
   "cell_type": "code",
   "execution_count": null,
   "metadata": {
    "colab": {
     "base_uri": "https://localhost:8080/"
    },
    "id": "6A9ir76YUjE7",
    "outputId": "d2d0528f-911c-42c1-a643-a8489f050d97"
   },
   "outputs": [
    {
     "name": "stdout",
     "output_type": "stream",
     "text": [
      "  % Total    % Received % Xferd  Average Speed   Time    Time     Time  Current\n",
      "                                 Dload  Upload   Total   Spent    Left  Speed\n",
      "  0     0    0     0    0     0      0      0 --:--:-- --:--:-- --:--:--     0tar: Ignoring unknown extended header keyword 'LIBARCHIVE.xattr.security.selinux'\n",
      "100  236M  100  236M    0     0  7974k      0  0:00:30  0:00:30 --:--:-- 5912k\n"
     ]
    }
   ],
   "source": [
    "# download the training set if it does not exist\n",
    "if not os.path.isfile(\"github-labels-top3-803k-train.csv\"):\n",
    "  !curl \"https://tickettagger.blob.core.windows.net/datasets/github-labels-top3-803k-train.tar.gz\" | tar -xz\n",
    "\n",
    "trainset = pd.read_csv(\"github-labels-top3-803k-train.csv\")"
   ]
  },
  {
   "cell_type": "code",
   "execution_count": null,
   "metadata": {
    "colab": {
     "base_uri": "https://localhost:8080/",
     "height": 397
    },
    "id": "SRkihj8Keex5",
    "outputId": "b11d661c-745b-46f8-b0d8-627393267d58"
   },
   "outputs": [
    {
     "data": {
      "text/html": [
       "<div>\n",
       "<style scoped>\n",
       "    .dataframe tbody tr th:only-of-type {\n",
       "        vertical-align: middle;\n",
       "    }\n",
       "\n",
       "    .dataframe tbody tr th {\n",
       "        vertical-align: top;\n",
       "    }\n",
       "\n",
       "    .dataframe thead th {\n",
       "        text-align: right;\n",
       "    }\n",
       "</style>\n",
       "<table border=\"1\" class=\"dataframe\">\n",
       "  <thead>\n",
       "    <tr style=\"text-align: right;\">\n",
       "      <th></th>\n",
       "      <th>Unnamed: 0</th>\n",
       "      <th>issue_url</th>\n",
       "      <th>issue_label</th>\n",
       "      <th>issue_created_at</th>\n",
       "      <th>issue_author_association</th>\n",
       "      <th>repository_url</th>\n",
       "      <th>issue_title</th>\n",
       "      <th>issue_body</th>\n",
       "    </tr>\n",
       "  </thead>\n",
       "  <tbody>\n",
       "    <tr>\n",
       "      <th>0</th>\n",
       "      <td>0</td>\n",
       "      <td>https://api.github.com/repos/eamodio/vscode-gi...</td>\n",
       "      <td>bug</td>\n",
       "      <td>2021-01-02T18:07:30Z</td>\n",
       "      <td>NONE</td>\n",
       "      <td>https://api.github.com/repos/eamodio/vscode-gi...</td>\n",
       "      <td>Welcome screen on every editor window is very ...</td>\n",
       "      <td>I just discovered Gitlens and find the functio...</td>\n",
       "    </tr>\n",
       "    <tr>\n",
       "      <th>1</th>\n",
       "      <td>1</td>\n",
       "      <td>https://api.github.com/repos/binwiederhier/pco...</td>\n",
       "      <td>bug</td>\n",
       "      <td>2020-12-31T18:19:31Z</td>\n",
       "      <td>OWNER</td>\n",
       "      <td>https://api.github.com/repos/binwiederhier/pcopy</td>\n",
       "      <td>\"pcopy invite\" and \"pcopy paste abc:\" does not...</td>\n",
       "      <td>NaN</td>\n",
       "    </tr>\n",
       "    <tr>\n",
       "      <th>2</th>\n",
       "      <td>2</td>\n",
       "      <td>https://api.github.com/repos/binwiederhier/pco...</td>\n",
       "      <td>bug</td>\n",
       "      <td>2021-01-03T04:33:36Z</td>\n",
       "      <td>OWNER</td>\n",
       "      <td>https://api.github.com/repos/binwiederhier/pcopy</td>\n",
       "      <td>UI: Modal overlay is half transparent, shouldn...</td>\n",
       "      <td>NaN</td>\n",
       "    </tr>\n",
       "    <tr>\n",
       "      <th>3</th>\n",
       "      <td>3</td>\n",
       "      <td>https://api.github.com/repos/Sothatsit/RoyalUr...</td>\n",
       "      <td>enhancement</td>\n",
       "      <td>2020-12-25T00:46:00Z</td>\n",
       "      <td>OWNER</td>\n",
       "      <td>https://api.github.com/repos/Sothatsit/RoyalUr...</td>\n",
       "      <td>Make the loading screen scale with browser win...</td>\n",
       "      <td>Currently the loading wheel is a fixed size in...</td>\n",
       "    </tr>\n",
       "    <tr>\n",
       "      <th>4</th>\n",
       "      <td>4</td>\n",
       "      <td>https://api.github.com/repos/Malivil/TTT-Custo...</td>\n",
       "      <td>bug</td>\n",
       "      <td>2021-01-02T21:36:57Z</td>\n",
       "      <td>OWNER</td>\n",
       "      <td>https://api.github.com/repos/Malivil/TTT-Custo...</td>\n",
       "      <td>Spectator - Investigate a way to strip weapons...</td>\n",
       "      <td>To bring magneto stick floating</td>\n",
       "    </tr>\n",
       "  </tbody>\n",
       "</table>\n",
       "</div>"
      ],
      "text/plain": [
       "   Unnamed: 0  ...                                         issue_body\n",
       "0           0  ...  I just discovered Gitlens and find the functio...\n",
       "1           1  ...                                                NaN\n",
       "2           2  ...                                                NaN\n",
       "3           3  ...  Currently the loading wheel is a fixed size in...\n",
       "4           4  ...                    To bring magneto stick floating\n",
       "\n",
       "[5 rows x 8 columns]"
      ]
     },
     "execution_count": 4,
     "metadata": {},
     "output_type": "execute_result"
    }
   ],
   "source": [
    "trainset.head(5)"
   ]
  },
  {
   "cell_type": "code",
   "execution_count": null,
   "metadata": {
    "colab": {
     "base_uri": "https://localhost:8080/"
    },
    "id": "QIpfCKadfI0u",
    "outputId": "6571ce28-5f59-40df-f3e5-e6aa7ac5a9d2"
   },
   "outputs": [
    {
     "data": {
      "text/plain": [
       "issue_label\n",
       "bug            361103\n",
       "enhancement    299374\n",
       "question        62422\n",
       "dtype: int64"
      ]
     },
     "execution_count": 5,
     "metadata": {},
     "output_type": "execute_result"
    }
   ],
   "source": [
    "trainset.groupby(\"issue_label\").size()"
   ]
  },
  {
   "cell_type": "code",
   "execution_count": null,
   "metadata": {
    "id": "Dxf7KiQTYoFU"
   },
   "outputs": [],
   "source": [
    "# preprocessing can be customized by participants\n",
    "def preprocess(row):\n",
    "  # concatenate title and body, then remove whitespaces\n",
    "  doc = \"\"\n",
    "  doc += str(row.issue_title)\n",
    "  doc += \" \"\n",
    "  doc += str(row.issue_body)\n",
    "  # https://radimrehurek.com/gensim/parsing/preprocessing.html\n",
    "  doc = gensim.parsing.preprocessing.strip_multiple_whitespaces(doc)\n",
    "  return doc"
   ]
  },
  {
   "cell_type": "code",
   "execution_count": null,
   "metadata": {
    "colab": {
     "base_uri": "https://localhost:8080/",
     "height": 277,
     "referenced_widgets": [
      "7b20c36b9a9c46c8a37acacf5bf416c3",
      "aae80dc0415a4dac8b7b68c096e9528f",
      "8adc826bf4e449a59e2ab6f03b13b6e5",
      "9d103e5ab2dc413c8cc20bd2d9de7781",
      "217ce7c5c0b44ea9a787895842a4c4cd",
      "6165a81f1f2342c3a892b908ca75307b",
      "127cf665ba09416ba579650d9f3150cc",
      "40fdbd937f2d41babe68a0d19a238a05",
      "fbb5ea26678b414faf283ef74f6aa867",
      "3516c4bee1c845a6b7f0191ff2348f92",
      "c598310209ae49c58eed083557ae9c10"
     ]
    },
    "id": "cbEsHy46Bs6M",
    "outputId": "36e23241-abf5-4633-ef04-f595ba9a89bd"
   },
   "outputs": [
    {
     "data": {
      "application/vnd.jupyter.widget-view+json": {
       "model_id": "7b20c36b9a9c46c8a37acacf5bf416c3",
       "version_major": 2,
       "version_minor": 0
      },
      "text/plain": [
       "Transform to fastText format:   0%|          | 0/722899 [00:00<?, ?it/s]"
      ]
     },
     "metadata": {},
     "output_type": "display_data"
    },
    {
     "name": "stdout",
     "output_type": "stream",
     "text": [
      "160535 valid.txt\n",
      "562364 train.txt\n",
      "__label__bug Welcome screen on every editor window is very tedious I just discovered Gitlens and find the functionality useful, thank you to all who contribute. I have about a dozen editor windows open, and the install process added a Gitlens welcome tab to each and every one of them. Combined with the snowflake effect, all of the sudden VScode was consuming 300-400% cpu and my fan was raging, as soon as I hunted them all down everything was back to fine. The welcome note content is great (although putting it on _all_ the windows is a bit much, don't know how much control you have on that). But overall it was a bit of a sour first-use experience, just wanted to provide that feedback.\n",
      "__label__bug \"pcopy invite\" and \"pcopy paste abc:\" does not check if clipboard exists nan\n",
      "__label__bug UI: Modal overlay is half transparent, shouldn't be nan\n",
      "__label__enhancement Make the loading screen scale with browser window size Currently the loading wheel is a fixed size in pixels, but it would be better to specify it in terms of percentage of the browser size.\n",
      "__label__bug Correct navigation bar for some resolution ![Capture d’écran_2020-12-26_20-40-02](https://user-images.githubusercontent.com/2406179/103162141-96894600-47ba-11eb-994b-47d1c7b9671b.png) \n",
      "__label__enhancement Return asset growth Would have to cache: - Stock Ticker Request - Last Price at request - Channel that the ticker was requested from (to dedupe issues)\n",
      "__label__enhancement Add filter for logs Add the ability to filter logs like on other pages.\n",
      "__label__enhancement Help bubbles nan\n",
      "__label__bug Nvidia Boot Error This doesn't really affect me, more of a doubt if this is normal to happen. I get this screen 100% when turning my customac on: <img width=\"812\" alt=\"lwscreenshot 2018-05-03 at 8 47 41 am\" src=\"https://user-images.githubusercontent.com/7088511/39580848-bc5707ac-4eaf-11e8-9adb-dafbaf76715c.png\"> Pastebin: https://pastebin.com/0jtUHJgm Cheers!\n",
      "__label__bug catAxisLabelPos and valAxisLabelPos options are not working Hi team , I set the two options of `cataxislabelpos` and `valaxislabelpos`, but they didn't seem to work.Below is my code. ![pptgenjs](https://user-images.githubusercontent.com/31813563/79113441-7f810000-7db3-11ea-81eb-27d2ce652e73.png) ``` let dataChartAreaLine = [ { name: \"Actual Sales\", labels: [\"Jan\", \"Feb\", \"Mar\", \"Apr\", \"May\", \"Jun\", \"Jul\", \"Aug\", \"Sep\", \"Oct\", \"Nov\", \"Dec\"], values: [1500, 4600, 5156, 3167, 8510, 8009, 6006, 7855, 12102, 12789, 10123, 15121], }, { name: \"Projected Sales\", labels: [\"Jan\", \"Feb\", \"Mar\", \"Apr\", \"May\", \"Jun\", \"Jul\", \"Aug\", \"Sep\", \"Oct\", \"Nov\", \"Dec\"], values: [1000, 2600, 3456, 4567, 5010, 6009, 7006, 8855, 9102, 10789, 11123, 12121], }, ]; slide.addChart(\"line\", dataChartAreaLine, { x: 1, y: 1, w: 8, h: 4, catAxisLabelPos: \"high\", valAxisLabelPos: \"high\" }); ```\n"
     ]
    }
   ],
   "source": [
    "# transform dataset into fasttext format\n",
    "# https://fasttext.cc/docs/en/supervised-tutorial.html#getting-and-preparing-the-data\n",
    "\n",
    "# rng used to split training set into fasttext hyperparameter finetuning validation set (2 of 9 parts)\n",
    "random = np.random.default_rng(0)\n",
    "\n",
    "with open(\"train.txt\", \"w\") as train_f, open(\"valid.txt\", \"w\") as valid_f:\n",
    "  for row in tqdm(trainset.itertuples(), desc=\"Transform to fastText format\", total=len(trainset)):\n",
    "    doc = f\"__label__{row.issue_label} {preprocess(row)}\\n\"\n",
    "    is_train = random.uniform() < 7/9\n",
    "    f = train_f if is_train else valid_f\n",
    "    f.write(doc)\n",
    "\n",
    "!wc -l \"valid.txt\"\n",
    "!wc -l \"train.txt\"\n",
    "\n",
    "!head -n 10 \"train.txt\""
   ]
  },
  {
   "cell_type": "code",
   "execution_count": null,
   "metadata": {
    "colab": {
     "base_uri": "https://localhost:8080/"
    },
    "id": "ZtCW1lnNY2EZ",
    "outputId": "cd7bbd35-4f51-4e5d-eb95-3ad14ffeb4a0"
   },
   "outputs": [
    {
     "name": "stdout",
     "output_type": "stream",
     "text": [
      "Collecting fasttext\n",
      "  Downloading fasttext-0.9.2.tar.gz (68 kB)\n",
      "\u001b[K     |████████████████████████████████| 68 kB 5.6 MB/s  eta 0:00:01\n",
      "\u001b[?25hCollecting pybind11>=2.2\n",
      "  Using cached pybind11-2.8.1-py2.py3-none-any.whl (208 kB)\n",
      "Requirement already satisfied: setuptools>=0.7.0 in /usr/local/lib/python3.7/dist-packages (from fasttext) (57.4.0)\n",
      "Requirement already satisfied: numpy in /usr/local/lib/python3.7/dist-packages (from fasttext) (1.19.5)\n",
      "Building wheels for collected packages: fasttext\n",
      "  Building wheel for fasttext (setup.py) ... \u001b[?25l\u001b[?25hdone\n",
      "  Created wheel for fasttext: filename=fasttext-0.9.2-cp37-cp37m-linux_x86_64.whl size=3125036 sha256=2cc2f0c1c6329a77a2f14306152305ca06ecf1a961014e6d0b760ba85b657746\n",
      "  Stored in directory: /root/.cache/pip/wheels/4e/ca/bf/b020d2be95f7641801a6597a29c8f4f19e38f9c02a345bab9b\n",
      "Successfully built fasttext\n",
      "Installing collected packages: pybind11, fasttext\n",
      "Successfully installed fasttext-0.9.2 pybind11-2.8.1\n"
     ]
    },
    {
     "data": {
      "text/plain": [
       "<fasttext.FastText._FastText at 0x7f072b9246d0>"
      ]
     },
     "execution_count": 8,
     "metadata": {},
     "output_type": "execute_result"
    }
   ],
   "source": [
    "!pip install fasttext\n",
    "import fasttext\n",
    "\n",
    "# https://fasttext.cc/docs/en/python-module.html#train_supervised-parameters\n",
    "model = fasttext.train_supervised(\"train.txt\", \n",
    "                                  minCount=50,\n",
    "                                  autotuneValidationFile=\"valid.txt\",\n",
    "                                  autotuneDuration=5*60)\n",
    "model.quantize()\n",
    "model.save_model(f\"github-labels-{int(time.time())}.ftz\")\n",
    "model.save_model(f\"drive/MyDrive/github-labels-{int(time.time())}.ftz\")\n",
    "model"
   ]
  },
  {
   "cell_type": "markdown",
   "metadata": {
    "id": "-B7yr1qBEj1E"
   },
   "source": [
    "#### Evaluation"
   ]
  },
  {
   "cell_type": "code",
   "execution_count": null,
   "metadata": {
    "colab": {
     "base_uri": "https://localhost:8080/"
    },
    "id": "fH2W2BZEWdVQ",
    "outputId": "d80458cf-3011-4a0d-fd2b-222ad69296f1"
   },
   "outputs": [
    {
     "name": "stdout",
     "output_type": "stream",
     "text": [
      "  % Total    % Received % Xferd  Average Speed   Time    Time     Time  Current\n",
      "                                 Dload  Upload   Total   Spent    Left  Speed\n",
      "  0     0    0     0    0     0      0      0 --:--:-- --:--:-- --:--:--     0tar: Ignoring unknown extended header keyword 'LIBARCHIVE.xattr.security.selinux'\n",
      "100 27.2M  100 27.2M    0     0  9192k      0  0:00:03  0:00:03 --:--:-- 9192k\n"
     ]
    },
    {
     "data": {
      "text/plain": [
       "issue_label\n",
       "bug            40288\n",
       "enhancement    33203\n",
       "question        7027\n",
       "dtype: int64"
      ]
     },
     "execution_count": 10,
     "metadata": {},
     "output_type": "execute_result"
    }
   ],
   "source": [
    "if not os.path.isfile(\"github-labels-top3-803k-test.csv\"):\n",
    "  !curl \"https://tickettagger.blob.core.windows.net/datasets/github-labels-top3-803k-test.tar.gz\" | tar -xz\n",
    "\n",
    "testset = pd.read_csv(\"github-labels-top3-803k-test.csv\")\n",
    "testset.groupby(\"issue_label\").size()\n",
    "#testset\n"
   ]
  },
  {
   "cell_type": "code",
   "execution_count": null,
   "metadata": {
    "colab": {
     "base_uri": "https://localhost:8080/",
     "height": 379,
     "referenced_widgets": [
      "efda4d1032b14466949666a3f3d7c521",
      "929ea270e1d34cc59342a013402d583b",
      "22a364e8a4fc47b4a80173365872c240",
      "bdeb60fd9c31458fa7eaed6529305437",
      "7eb8cc1c4edd4792ba5124f2028c0746",
      "841cb74dcf8f4037b7dd89d917a57e42",
      "baab04a04bb24af2ac4112b67a09c5b6",
      "bf0157e04a87415ab316791233214f13",
      "35f233b4dbd44137a54d715a73b6f625",
      "493286c173664d63b8ed126297839489",
      "0fa1ffa2c3894a2a931367816ebf4421"
     ]
    },
    "id": "zjjIKvw9eQil",
    "outputId": "d3290ebc-a3c6-42fb-aa78-94419c5c51a3"
   },
   "outputs": [
    {
     "data": {
      "application/vnd.jupyter.widget-view+json": {
       "model_id": "efda4d1032b14466949666a3f3d7c521",
       "version_major": 2,
       "version_minor": 0
      },
      "text/plain": [
       "Benchmarking Inference Performance:   0%|          | 0/80518 [00:00<?, ?it/s]"
      ]
     },
     "metadata": {},
     "output_type": "display_data"
    },
    {
     "name": "stdout",
     "output_type": "stream",
     "text": [
      "=*= bug =*=\n",
      "precision:\t0.8314\n",
      "recall:\t\t0.8725\n",
      "F1 score:\t0.8515\n",
      "\n",
      "=*= enhancement =*=\n",
      "precision:\t0.8155\n",
      "recall:\t\t0.8464\n",
      "F1 score:\t0.8307\n",
      "\n",
      "=*= question =*=\n",
      "precision:\t0.6521\n",
      "recall:\t\t0.3502\n",
      "F1 score:\t0.4557\n",
      "\n",
      "=*= global =*=\n",
      "precision:\t0.8162\n",
      "recall:\t\t0.8162\n",
      "F1 score:\t0.8162\n"
     ]
    }
   ],
   "source": [
    "# confusion matrix\n",
    "y_true = []\n",
    "y_pred = []\n",
    "\n",
    "for row in tqdm(testset.itertuples(), desc=\"Benchmarking Inference Performance\", total=len(testset)):\n",
    "  pred = model.predict(preprocess(row))[0][0][9:]\n",
    "  y_true.append(row.issue_label)\n",
    "  y_pred.append(pred)\n",
    "\n",
    "for label in [\"bug\", \"enhancement\", \"question\"]:\n",
    "  P_c = sklearn.metrics.precision_score(y_true, y_pred, average=None, labels=[label])[0]\n",
    "  R_c = sklearn.metrics.recall_score(y_true, y_pred, average=None, labels=[label])[0]\n",
    "  F1_c = sklearn.metrics.f1_score(y_true, y_pred, average=None, labels=[label])[0]\n",
    "  print(f\"=*= {label} =*=\")\n",
    "  print(f\"precision:\\t{P_c:.4f}\")\n",
    "  print(f\"recall:\\t\\t{R_c:.4f}\")\n",
    "  print(f\"F1 score:\\t{F1_c:.4f}\")\n",
    "  print()\n",
    "\n",
    "\n",
    "P = sklearn.metrics.precision_score(y_true, y_pred, average='micro')\n",
    "R = sklearn.metrics.recall_score(y_true, y_pred, average='micro')\n",
    "F1 = sklearn.metrics.f1_score(y_true, y_pred, average='micro')\n",
    "\n",
    "print(\"=*= global =*=\")\n",
    "print(f\"precision:\\t{P:.4f}\")\n",
    "print(f\"recall:\\t\\t{R:.4f}\")\n",
    "print(f\"F1 score:\\t{F1:.4f}\")"
   ]
  }
 ],
 "metadata": {
  "colab": {
   "collapsed_sections": [],
   "name": "nlbse-tool-competition-template.ipynb",
   "provenance": []
  },
  "kernelspec": {
   "display_name": "Python 3",
   "language": "python",
   "name": "python3"
  },
  "language_info": {
   "codemirror_mode": {
    "name": "ipython",
    "version": 3
   },
   "file_extension": ".py",
   "mimetype": "text/x-python",
   "name": "python",
   "nbconvert_exporter": "python",
   "pygments_lexer": "ipython3",
   "version": "3.7.10"
  },
  "widgets": {
   "application/vnd.jupyter.widget-state+json": {
    "0fa1ffa2c3894a2a931367816ebf4421": {
     "model_module": "@jupyter-widgets/base",
     "model_module_version": "1.2.0",
     "model_name": "LayoutModel",
     "state": {
      "_model_module": "@jupyter-widgets/base",
      "_model_module_version": "1.2.0",
      "_model_name": "LayoutModel",
      "_view_count": null,
      "_view_module": "@jupyter-widgets/base",
      "_view_module_version": "1.2.0",
      "_view_name": "LayoutView",
      "align_content": null,
      "align_items": null,
      "align_self": null,
      "border": null,
      "bottom": null,
      "display": null,
      "flex": null,
      "flex_flow": null,
      "grid_area": null,
      "grid_auto_columns": null,
      "grid_auto_flow": null,
      "grid_auto_rows": null,
      "grid_column": null,
      "grid_gap": null,
      "grid_row": null,
      "grid_template_areas": null,
      "grid_template_columns": null,
      "grid_template_rows": null,
      "height": null,
      "justify_content": null,
      "justify_items": null,
      "left": null,
      "margin": null,
      "max_height": null,
      "max_width": null,
      "min_height": null,
      "min_width": null,
      "object_fit": null,
      "object_position": null,
      "order": null,
      "overflow": null,
      "overflow_x": null,
      "overflow_y": null,
      "padding": null,
      "right": null,
      "top": null,
      "visibility": null,
      "width": null
     }
    },
    "127cf665ba09416ba579650d9f3150cc": {
     "model_module": "@jupyter-widgets/base",
     "model_module_version": "1.2.0",
     "model_name": "LayoutModel",
     "state": {
      "_model_module": "@jupyter-widgets/base",
      "_model_module_version": "1.2.0",
      "_model_name": "LayoutModel",
      "_view_count": null,
      "_view_module": "@jupyter-widgets/base",
      "_view_module_version": "1.2.0",
      "_view_name": "LayoutView",
      "align_content": null,
      "align_items": null,
      "align_self": null,
      "border": null,
      "bottom": null,
      "display": null,
      "flex": null,
      "flex_flow": null,
      "grid_area": null,
      "grid_auto_columns": null,
      "grid_auto_flow": null,
      "grid_auto_rows": null,
      "grid_column": null,
      "grid_gap": null,
      "grid_row": null,
      "grid_template_areas": null,
      "grid_template_columns": null,
      "grid_template_rows": null,
      "height": null,
      "justify_content": null,
      "justify_items": null,
      "left": null,
      "margin": null,
      "max_height": null,
      "max_width": null,
      "min_height": null,
      "min_width": null,
      "object_fit": null,
      "object_position": null,
      "order": null,
      "overflow": null,
      "overflow_x": null,
      "overflow_y": null,
      "padding": null,
      "right": null,
      "top": null,
      "visibility": null,
      "width": null
     }
    },
    "217ce7c5c0b44ea9a787895842a4c4cd": {
     "model_module": "@jupyter-widgets/controls",
     "model_module_version": "1.5.0",
     "model_name": "HTMLModel",
     "state": {
      "_dom_classes": [],
      "_model_module": "@jupyter-widgets/controls",
      "_model_module_version": "1.5.0",
      "_model_name": "HTMLModel",
      "_view_count": null,
      "_view_module": "@jupyter-widgets/controls",
      "_view_module_version": "1.5.0",
      "_view_name": "HTMLView",
      "description": "",
      "description_tooltip": null,
      "layout": "IPY_MODEL_c598310209ae49c58eed083557ae9c10",
      "placeholder": "​",
      "style": "IPY_MODEL_3516c4bee1c845a6b7f0191ff2348f92",
      "value": " 722899/722899 [01:07&lt;00:00, 10264.93it/s]"
     }
    },
    "22a364e8a4fc47b4a80173365872c240": {
     "model_module": "@jupyter-widgets/controls",
     "model_module_version": "1.5.0",
     "model_name": "HTMLModel",
     "state": {
      "_dom_classes": [],
      "_model_module": "@jupyter-widgets/controls",
      "_model_module_version": "1.5.0",
      "_model_name": "HTMLModel",
      "_view_count": null,
      "_view_module": "@jupyter-widgets/controls",
      "_view_module_version": "1.5.0",
      "_view_name": "HTMLView",
      "description": "",
      "description_tooltip": null,
      "layout": "IPY_MODEL_baab04a04bb24af2ac4112b67a09c5b6",
      "placeholder": "​",
      "style": "IPY_MODEL_841cb74dcf8f4037b7dd89d917a57e42",
      "value": "Benchmarking Inference Performance: 100%"
     }
    },
    "3516c4bee1c845a6b7f0191ff2348f92": {
     "model_module": "@jupyter-widgets/controls",
     "model_module_version": "1.5.0",
     "model_name": "DescriptionStyleModel",
     "state": {
      "_model_module": "@jupyter-widgets/controls",
      "_model_module_version": "1.5.0",
      "_model_name": "DescriptionStyleModel",
      "_view_count": null,
      "_view_module": "@jupyter-widgets/base",
      "_view_module_version": "1.2.0",
      "_view_name": "StyleView",
      "description_width": ""
     }
    },
    "35f233b4dbd44137a54d715a73b6f625": {
     "model_module": "@jupyter-widgets/base",
     "model_module_version": "1.2.0",
     "model_name": "LayoutModel",
     "state": {
      "_model_module": "@jupyter-widgets/base",
      "_model_module_version": "1.2.0",
      "_model_name": "LayoutModel",
      "_view_count": null,
      "_view_module": "@jupyter-widgets/base",
      "_view_module_version": "1.2.0",
      "_view_name": "LayoutView",
      "align_content": null,
      "align_items": null,
      "align_self": null,
      "border": null,
      "bottom": null,
      "display": null,
      "flex": null,
      "flex_flow": null,
      "grid_area": null,
      "grid_auto_columns": null,
      "grid_auto_flow": null,
      "grid_auto_rows": null,
      "grid_column": null,
      "grid_gap": null,
      "grid_row": null,
      "grid_template_areas": null,
      "grid_template_columns": null,
      "grid_template_rows": null,
      "height": null,
      "justify_content": null,
      "justify_items": null,
      "left": null,
      "margin": null,
      "max_height": null,
      "max_width": null,
      "min_height": null,
      "min_width": null,
      "object_fit": null,
      "object_position": null,
      "order": null,
      "overflow": null,
      "overflow_x": null,
      "overflow_y": null,
      "padding": null,
      "right": null,
      "top": null,
      "visibility": null,
      "width": null
     }
    },
    "40fdbd937f2d41babe68a0d19a238a05": {
     "model_module": "@jupyter-widgets/controls",
     "model_module_version": "1.5.0",
     "model_name": "ProgressStyleModel",
     "state": {
      "_model_module": "@jupyter-widgets/controls",
      "_model_module_version": "1.5.0",
      "_model_name": "ProgressStyleModel",
      "_view_count": null,
      "_view_module": "@jupyter-widgets/base",
      "_view_module_version": "1.2.0",
      "_view_name": "StyleView",
      "bar_color": null,
      "description_width": ""
     }
    },
    "493286c173664d63b8ed126297839489": {
     "model_module": "@jupyter-widgets/controls",
     "model_module_version": "1.5.0",
     "model_name": "DescriptionStyleModel",
     "state": {
      "_model_module": "@jupyter-widgets/controls",
      "_model_module_version": "1.5.0",
      "_model_name": "DescriptionStyleModel",
      "_view_count": null,
      "_view_module": "@jupyter-widgets/base",
      "_view_module_version": "1.2.0",
      "_view_name": "StyleView",
      "description_width": ""
     }
    },
    "6165a81f1f2342c3a892b908ca75307b": {
     "model_module": "@jupyter-widgets/controls",
     "model_module_version": "1.5.0",
     "model_name": "DescriptionStyleModel",
     "state": {
      "_model_module": "@jupyter-widgets/controls",
      "_model_module_version": "1.5.0",
      "_model_name": "DescriptionStyleModel",
      "_view_count": null,
      "_view_module": "@jupyter-widgets/base",
      "_view_module_version": "1.2.0",
      "_view_name": "StyleView",
      "description_width": ""
     }
    },
    "7b20c36b9a9c46c8a37acacf5bf416c3": {
     "model_module": "@jupyter-widgets/controls",
     "model_module_version": "1.5.0",
     "model_name": "HBoxModel",
     "state": {
      "_dom_classes": [],
      "_model_module": "@jupyter-widgets/controls",
      "_model_module_version": "1.5.0",
      "_model_name": "HBoxModel",
      "_view_count": null,
      "_view_module": "@jupyter-widgets/controls",
      "_view_module_version": "1.5.0",
      "_view_name": "HBoxView",
      "box_style": "",
      "children": [
       "IPY_MODEL_8adc826bf4e449a59e2ab6f03b13b6e5",
       "IPY_MODEL_9d103e5ab2dc413c8cc20bd2d9de7781",
       "IPY_MODEL_217ce7c5c0b44ea9a787895842a4c4cd"
      ],
      "layout": "IPY_MODEL_aae80dc0415a4dac8b7b68c096e9528f"
     }
    },
    "7eb8cc1c4edd4792ba5124f2028c0746": {
     "model_module": "@jupyter-widgets/controls",
     "model_module_version": "1.5.0",
     "model_name": "HTMLModel",
     "state": {
      "_dom_classes": [],
      "_model_module": "@jupyter-widgets/controls",
      "_model_module_version": "1.5.0",
      "_model_name": "HTMLModel",
      "_view_count": null,
      "_view_module": "@jupyter-widgets/controls",
      "_view_module_version": "1.5.0",
      "_view_name": "HTMLView",
      "description": "",
      "description_tooltip": null,
      "layout": "IPY_MODEL_0fa1ffa2c3894a2a931367816ebf4421",
      "placeholder": "​",
      "style": "IPY_MODEL_493286c173664d63b8ed126297839489",
      "value": " 80518/80518 [00:13&lt;00:00, 6067.47it/s]"
     }
    },
    "841cb74dcf8f4037b7dd89d917a57e42": {
     "model_module": "@jupyter-widgets/controls",
     "model_module_version": "1.5.0",
     "model_name": "DescriptionStyleModel",
     "state": {
      "_model_module": "@jupyter-widgets/controls",
      "_model_module_version": "1.5.0",
      "_model_name": "DescriptionStyleModel",
      "_view_count": null,
      "_view_module": "@jupyter-widgets/base",
      "_view_module_version": "1.2.0",
      "_view_name": "StyleView",
      "description_width": ""
     }
    },
    "8adc826bf4e449a59e2ab6f03b13b6e5": {
     "model_module": "@jupyter-widgets/controls",
     "model_module_version": "1.5.0",
     "model_name": "HTMLModel",
     "state": {
      "_dom_classes": [],
      "_model_module": "@jupyter-widgets/controls",
      "_model_module_version": "1.5.0",
      "_model_name": "HTMLModel",
      "_view_count": null,
      "_view_module": "@jupyter-widgets/controls",
      "_view_module_version": "1.5.0",
      "_view_name": "HTMLView",
      "description": "",
      "description_tooltip": null,
      "layout": "IPY_MODEL_127cf665ba09416ba579650d9f3150cc",
      "placeholder": "​",
      "style": "IPY_MODEL_6165a81f1f2342c3a892b908ca75307b",
      "value": "Transform to fastText format: 100%"
     }
    },
    "929ea270e1d34cc59342a013402d583b": {
     "model_module": "@jupyter-widgets/base",
     "model_module_version": "1.2.0",
     "model_name": "LayoutModel",
     "state": {
      "_model_module": "@jupyter-widgets/base",
      "_model_module_version": "1.2.0",
      "_model_name": "LayoutModel",
      "_view_count": null,
      "_view_module": "@jupyter-widgets/base",
      "_view_module_version": "1.2.0",
      "_view_name": "LayoutView",
      "align_content": null,
      "align_items": null,
      "align_self": null,
      "border": null,
      "bottom": null,
      "display": null,
      "flex": null,
      "flex_flow": null,
      "grid_area": null,
      "grid_auto_columns": null,
      "grid_auto_flow": null,
      "grid_auto_rows": null,
      "grid_column": null,
      "grid_gap": null,
      "grid_row": null,
      "grid_template_areas": null,
      "grid_template_columns": null,
      "grid_template_rows": null,
      "height": null,
      "justify_content": null,
      "justify_items": null,
      "left": null,
      "margin": null,
      "max_height": null,
      "max_width": null,
      "min_height": null,
      "min_width": null,
      "object_fit": null,
      "object_position": null,
      "order": null,
      "overflow": null,
      "overflow_x": null,
      "overflow_y": null,
      "padding": null,
      "right": null,
      "top": null,
      "visibility": null,
      "width": null
     }
    },
    "9d103e5ab2dc413c8cc20bd2d9de7781": {
     "model_module": "@jupyter-widgets/controls",
     "model_module_version": "1.5.0",
     "model_name": "FloatProgressModel",
     "state": {
      "_dom_classes": [],
      "_model_module": "@jupyter-widgets/controls",
      "_model_module_version": "1.5.0",
      "_model_name": "FloatProgressModel",
      "_view_count": null,
      "_view_module": "@jupyter-widgets/controls",
      "_view_module_version": "1.5.0",
      "_view_name": "ProgressView",
      "bar_style": "success",
      "description": "",
      "description_tooltip": null,
      "layout": "IPY_MODEL_fbb5ea26678b414faf283ef74f6aa867",
      "max": 722899,
      "min": 0,
      "orientation": "horizontal",
      "style": "IPY_MODEL_40fdbd937f2d41babe68a0d19a238a05",
      "value": 722899
     }
    },
    "aae80dc0415a4dac8b7b68c096e9528f": {
     "model_module": "@jupyter-widgets/base",
     "model_module_version": "1.2.0",
     "model_name": "LayoutModel",
     "state": {
      "_model_module": "@jupyter-widgets/base",
      "_model_module_version": "1.2.0",
      "_model_name": "LayoutModel",
      "_view_count": null,
      "_view_module": "@jupyter-widgets/base",
      "_view_module_version": "1.2.0",
      "_view_name": "LayoutView",
      "align_content": null,
      "align_items": null,
      "align_self": null,
      "border": null,
      "bottom": null,
      "display": null,
      "flex": null,
      "flex_flow": null,
      "grid_area": null,
      "grid_auto_columns": null,
      "grid_auto_flow": null,
      "grid_auto_rows": null,
      "grid_column": null,
      "grid_gap": null,
      "grid_row": null,
      "grid_template_areas": null,
      "grid_template_columns": null,
      "grid_template_rows": null,
      "height": null,
      "justify_content": null,
      "justify_items": null,
      "left": null,
      "margin": null,
      "max_height": null,
      "max_width": null,
      "min_height": null,
      "min_width": null,
      "object_fit": null,
      "object_position": null,
      "order": null,
      "overflow": null,
      "overflow_x": null,
      "overflow_y": null,
      "padding": null,
      "right": null,
      "top": null,
      "visibility": null,
      "width": null
     }
    },
    "baab04a04bb24af2ac4112b67a09c5b6": {
     "model_module": "@jupyter-widgets/base",
     "model_module_version": "1.2.0",
     "model_name": "LayoutModel",
     "state": {
      "_model_module": "@jupyter-widgets/base",
      "_model_module_version": "1.2.0",
      "_model_name": "LayoutModel",
      "_view_count": null,
      "_view_module": "@jupyter-widgets/base",
      "_view_module_version": "1.2.0",
      "_view_name": "LayoutView",
      "align_content": null,
      "align_items": null,
      "align_self": null,
      "border": null,
      "bottom": null,
      "display": null,
      "flex": null,
      "flex_flow": null,
      "grid_area": null,
      "grid_auto_columns": null,
      "grid_auto_flow": null,
      "grid_auto_rows": null,
      "grid_column": null,
      "grid_gap": null,
      "grid_row": null,
      "grid_template_areas": null,
      "grid_template_columns": null,
      "grid_template_rows": null,
      "height": null,
      "justify_content": null,
      "justify_items": null,
      "left": null,
      "margin": null,
      "max_height": null,
      "max_width": null,
      "min_height": null,
      "min_width": null,
      "object_fit": null,
      "object_position": null,
      "order": null,
      "overflow": null,
      "overflow_x": null,
      "overflow_y": null,
      "padding": null,
      "right": null,
      "top": null,
      "visibility": null,
      "width": null
     }
    },
    "bdeb60fd9c31458fa7eaed6529305437": {
     "model_module": "@jupyter-widgets/controls",
     "model_module_version": "1.5.0",
     "model_name": "FloatProgressModel",
     "state": {
      "_dom_classes": [],
      "_model_module": "@jupyter-widgets/controls",
      "_model_module_version": "1.5.0",
      "_model_name": "FloatProgressModel",
      "_view_count": null,
      "_view_module": "@jupyter-widgets/controls",
      "_view_module_version": "1.5.0",
      "_view_name": "ProgressView",
      "bar_style": "success",
      "description": "",
      "description_tooltip": null,
      "layout": "IPY_MODEL_35f233b4dbd44137a54d715a73b6f625",
      "max": 80518,
      "min": 0,
      "orientation": "horizontal",
      "style": "IPY_MODEL_bf0157e04a87415ab316791233214f13",
      "value": 80518
     }
    },
    "bf0157e04a87415ab316791233214f13": {
     "model_module": "@jupyter-widgets/controls",
     "model_module_version": "1.5.0",
     "model_name": "ProgressStyleModel",
     "state": {
      "_model_module": "@jupyter-widgets/controls",
      "_model_module_version": "1.5.0",
      "_model_name": "ProgressStyleModel",
      "_view_count": null,
      "_view_module": "@jupyter-widgets/base",
      "_view_module_version": "1.2.0",
      "_view_name": "StyleView",
      "bar_color": null,
      "description_width": ""
     }
    },
    "c598310209ae49c58eed083557ae9c10": {
     "model_module": "@jupyter-widgets/base",
     "model_module_version": "1.2.0",
     "model_name": "LayoutModel",
     "state": {
      "_model_module": "@jupyter-widgets/base",
      "_model_module_version": "1.2.0",
      "_model_name": "LayoutModel",
      "_view_count": null,
      "_view_module": "@jupyter-widgets/base",
      "_view_module_version": "1.2.0",
      "_view_name": "LayoutView",
      "align_content": null,
      "align_items": null,
      "align_self": null,
      "border": null,
      "bottom": null,
      "display": null,
      "flex": null,
      "flex_flow": null,
      "grid_area": null,
      "grid_auto_columns": null,
      "grid_auto_flow": null,
      "grid_auto_rows": null,
      "grid_column": null,
      "grid_gap": null,
      "grid_row": null,
      "grid_template_areas": null,
      "grid_template_columns": null,
      "grid_template_rows": null,
      "height": null,
      "justify_content": null,
      "justify_items": null,
      "left": null,
      "margin": null,
      "max_height": null,
      "max_width": null,
      "min_height": null,
      "min_width": null,
      "object_fit": null,
      "object_position": null,
      "order": null,
      "overflow": null,
      "overflow_x": null,
      "overflow_y": null,
      "padding": null,
      "right": null,
      "top": null,
      "visibility": null,
      "width": null
     }
    },
    "efda4d1032b14466949666a3f3d7c521": {
     "model_module": "@jupyter-widgets/controls",
     "model_module_version": "1.5.0",
     "model_name": "HBoxModel",
     "state": {
      "_dom_classes": [],
      "_model_module": "@jupyter-widgets/controls",
      "_model_module_version": "1.5.0",
      "_model_name": "HBoxModel",
      "_view_count": null,
      "_view_module": "@jupyter-widgets/controls",
      "_view_module_version": "1.5.0",
      "_view_name": "HBoxView",
      "box_style": "",
      "children": [
       "IPY_MODEL_22a364e8a4fc47b4a80173365872c240",
       "IPY_MODEL_bdeb60fd9c31458fa7eaed6529305437",
       "IPY_MODEL_7eb8cc1c4edd4792ba5124f2028c0746"
      ],
      "layout": "IPY_MODEL_929ea270e1d34cc59342a013402d583b"
     }
    },
    "fbb5ea26678b414faf283ef74f6aa867": {
     "model_module": "@jupyter-widgets/base",
     "model_module_version": "1.2.0",
     "model_name": "LayoutModel",
     "state": {
      "_model_module": "@jupyter-widgets/base",
      "_model_module_version": "1.2.0",
      "_model_name": "LayoutModel",
      "_view_count": null,
      "_view_module": "@jupyter-widgets/base",
      "_view_module_version": "1.2.0",
      "_view_name": "LayoutView",
      "align_content": null,
      "align_items": null,
      "align_self": null,
      "border": null,
      "bottom": null,
      "display": null,
      "flex": null,
      "flex_flow": null,
      "grid_area": null,
      "grid_auto_columns": null,
      "grid_auto_flow": null,
      "grid_auto_rows": null,
      "grid_column": null,
      "grid_gap": null,
      "grid_row": null,
      "grid_template_areas": null,
      "grid_template_columns": null,
      "grid_template_rows": null,
      "height": null,
      "justify_content": null,
      "justify_items": null,
      "left": null,
      "margin": null,
      "max_height": null,
      "max_width": null,
      "min_height": null,
      "min_width": null,
      "object_fit": null,
      "object_position": null,
      "order": null,
      "overflow": null,
      "overflow_x": null,
      "overflow_y": null,
      "padding": null,
      "right": null,
      "top": null,
      "visibility": null,
      "width": null
     }
    }
   }
  }
 },
 "nbformat": 4,
 "nbformat_minor": 4
}
