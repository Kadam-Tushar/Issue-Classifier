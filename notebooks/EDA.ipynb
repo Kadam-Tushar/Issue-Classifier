{
 "cells": [
  {
   "cell_type": "code",
   "execution_count": 78,
   "id": "7ba63894-3cc5-42a7-8442-6426b2287db2",
   "metadata": {},
   "outputs": [],
   "source": [
    "import pandas as pd\n",
    "import numpy as np \n",
    "data_path =  {'test':'../data/test.csv', 'train':'../data/train.csv'}"
   ]
  },
  {
   "cell_type": "code",
   "execution_count": 79,
   "id": "d4e22238-a736-4a09-95e3-df5acada6fdc",
   "metadata": {},
   "outputs": [],
   "source": [
    "df = pd.read_csv(data_path['test'],index_col=0)"
   ]
  },
  {
   "cell_type": "code",
   "execution_count": 80,
   "id": "34b58d6d-0e9e-4bad-a280-29ac25737813",
   "metadata": {},
   "outputs": [
    {
     "data": {
      "text/html": [
       "<div>\n",
       "<style scoped>\n",
       "    .dataframe tbody tr th:only-of-type {\n",
       "        vertical-align: middle;\n",
       "    }\n",
       "\n",
       "    .dataframe tbody tr th {\n",
       "        vertical-align: top;\n",
       "    }\n",
       "\n",
       "    .dataframe thead th {\n",
       "        text-align: right;\n",
       "    }\n",
       "</style>\n",
       "<table border=\"1\" class=\"dataframe\">\n",
       "  <thead>\n",
       "    <tr style=\"text-align: right;\">\n",
       "      <th></th>\n",
       "      <th>issue_url</th>\n",
       "      <th>issue_label</th>\n",
       "      <th>issue_created_at</th>\n",
       "      <th>issue_author_association</th>\n",
       "      <th>repository_url</th>\n",
       "      <th>issue_title</th>\n",
       "      <th>issue_body</th>\n",
       "    </tr>\n",
       "  </thead>\n",
       "  <tbody>\n",
       "    <tr>\n",
       "      <th>6</th>\n",
       "      <td>https://api.github.com/repos/tlnagy/TIFF.jl/is...</td>\n",
       "      <td>enhancement</td>\n",
       "      <td>2020-04-07T09:08:50Z</td>\n",
       "      <td>NONE</td>\n",
       "      <td>https://api.github.com/repos/tlnagy/TIFF.jl</td>\n",
       "      <td>ERROR: KeyError: key (TIFF.SAMPLEFORMAT_INT, 0...</td>\n",
       "      <td>One more error might need to be caught.\\r\\n`4D...</td>\n",
       "    </tr>\n",
       "    <tr>\n",
       "      <th>19</th>\n",
       "      <td>https://api.github.com/repos/tisboyo/Twitch_Bo...</td>\n",
       "      <td>enhancement</td>\n",
       "      <td>2020-11-27T07:17:21Z</td>\n",
       "      <td>OWNER</td>\n",
       "      <td>https://api.github.com/repos/tisboyo/Twitch_Bot</td>\n",
       "      <td>Add database backup to dropbox</td>\n",
       "      <td>NaN</td>\n",
       "    </tr>\n",
       "    <tr>\n",
       "      <th>25</th>\n",
       "      <td>https://api.github.com/repos/DrWhoCares/imgdan...</td>\n",
       "      <td>enhancement</td>\n",
       "      <td>2021-01-02T19:35:34Z</td>\n",
       "      <td>OWNER</td>\n",
       "      <td>https://api.github.com/repos/DrWhoCares/imgdanke</td>\n",
       "      <td>Add a button/method to open the Source or Outp...</td>\n",
       "      <td>Could also add a method to open up path to eac...</td>\n",
       "    </tr>\n",
       "    <tr>\n",
       "      <th>30</th>\n",
       "      <td>https://api.github.com/repos/DrWhoCares/imgdan...</td>\n",
       "      <td>bug</td>\n",
       "      <td>2021-01-02T20:55:34Z</td>\n",
       "      <td>OWNER</td>\n",
       "      <td>https://api.github.com/repos/DrWhoCares/imgdanke</td>\n",
       "      <td>Processes are being started twice</td>\n",
       "      <td>At some point I refactored a few things and en...</td>\n",
       "    </tr>\n",
       "    <tr>\n",
       "      <th>54</th>\n",
       "      <td>https://api.github.com/repos/Bean-1/AOT/issues/3</td>\n",
       "      <td>bug</td>\n",
       "      <td>2020-12-29T15:34:35Z</td>\n",
       "      <td>OWNER</td>\n",
       "      <td>https://api.github.com/repos/Bean-1/AOT</td>\n",
       "      <td>Cannot add hp to wall</td>\n",
       "      <td>NaN</td>\n",
       "    </tr>\n",
       "  </tbody>\n",
       "</table>\n",
       "</div>"
      ],
      "text/plain": [
       "                                            issue_url  issue_label  \\\n",
       "6   https://api.github.com/repos/tlnagy/TIFF.jl/is...  enhancement   \n",
       "19  https://api.github.com/repos/tisboyo/Twitch_Bo...  enhancement   \n",
       "25  https://api.github.com/repos/DrWhoCares/imgdan...  enhancement   \n",
       "30  https://api.github.com/repos/DrWhoCares/imgdan...          bug   \n",
       "54   https://api.github.com/repos/Bean-1/AOT/issues/3          bug   \n",
       "\n",
       "        issue_created_at issue_author_association  \\\n",
       "6   2020-04-07T09:08:50Z                     NONE   \n",
       "19  2020-11-27T07:17:21Z                    OWNER   \n",
       "25  2021-01-02T19:35:34Z                    OWNER   \n",
       "30  2021-01-02T20:55:34Z                    OWNER   \n",
       "54  2020-12-29T15:34:35Z                    OWNER   \n",
       "\n",
       "                                      repository_url  \\\n",
       "6        https://api.github.com/repos/tlnagy/TIFF.jl   \n",
       "19   https://api.github.com/repos/tisboyo/Twitch_Bot   \n",
       "25  https://api.github.com/repos/DrWhoCares/imgdanke   \n",
       "30  https://api.github.com/repos/DrWhoCares/imgdanke   \n",
       "54           https://api.github.com/repos/Bean-1/AOT   \n",
       "\n",
       "                                          issue_title  \\\n",
       "6   ERROR: KeyError: key (TIFF.SAMPLEFORMAT_INT, 0...   \n",
       "19                     Add database backup to dropbox   \n",
       "25  Add a button/method to open the Source or Outp...   \n",
       "30                  Processes are being started twice   \n",
       "54                              Cannot add hp to wall   \n",
       "\n",
       "                                           issue_body  \n",
       "6   One more error might need to be caught.\\r\\n`4D...  \n",
       "19                                                NaN  \n",
       "25  Could also add a method to open up path to eac...  \n",
       "30  At some point I refactored a few things and en...  \n",
       "54                                                NaN  "
      ]
     },
     "execution_count": 80,
     "metadata": {},
     "output_type": "execute_result"
    }
   ],
   "source": [
    "df.head()"
   ]
  },
  {
   "cell_type": "code",
   "execution_count": 81,
   "id": "2dff43cb-6092-487b-8924-387041feeeb5",
   "metadata": {},
   "outputs": [
    {
     "name": "stdout",
     "output_type": "stream",
     "text": [
      "issue_url\n",
      "issue_label\n",
      "issue_created_at\n",
      "issue_author_association\n",
      "repository_url\n",
      "issue_title\n",
      "issue_body\n"
     ]
    }
   ],
   "source": [
    "for col in df.columns:\n",
    "    print(col)"
   ]
  },
  {
   "cell_type": "code",
   "execution_count": 82,
   "id": "d05d54ca-2186-4f3c-b85c-357839c2354b",
   "metadata": {},
   "outputs": [
    {
     "data": {
      "text/plain": [
       "(80518, 7)"
      ]
     },
     "execution_count": 82,
     "metadata": {},
     "output_type": "execute_result"
    }
   ],
   "source": [
    "df.shape"
   ]
  },
  {
   "cell_type": "code",
   "execution_count": 83,
   "id": "68cf3f6b-14a5-4cf5-937b-2e10f8ef51ce",
   "metadata": {},
   "outputs": [
    {
     "data": {
      "text/html": [
       "<div>\n",
       "<style scoped>\n",
       "    .dataframe tbody tr th:only-of-type {\n",
       "        vertical-align: middle;\n",
       "    }\n",
       "\n",
       "    .dataframe tbody tr th {\n",
       "        vertical-align: top;\n",
       "    }\n",
       "\n",
       "    .dataframe thead th {\n",
       "        text-align: right;\n",
       "    }\n",
       "</style>\n",
       "<table border=\"1\" class=\"dataframe\">\n",
       "  <thead>\n",
       "    <tr style=\"text-align: right;\">\n",
       "      <th></th>\n",
       "      <th>issue_url</th>\n",
       "      <th>issue_label</th>\n",
       "      <th>issue_created_at</th>\n",
       "      <th>issue_author_association</th>\n",
       "      <th>repository_url</th>\n",
       "      <th>issue_title</th>\n",
       "      <th>issue_body</th>\n",
       "    </tr>\n",
       "  </thead>\n",
       "  <tbody>\n",
       "    <tr>\n",
       "      <th>count</th>\n",
       "      <td>80518</td>\n",
       "      <td>80518</td>\n",
       "      <td>80518</td>\n",
       "      <td>80518</td>\n",
       "      <td>80518</td>\n",
       "      <td>80518</td>\n",
       "      <td>72602</td>\n",
       "    </tr>\n",
       "    <tr>\n",
       "      <th>unique</th>\n",
       "      <td>80138</td>\n",
       "      <td>3</td>\n",
       "      <td>79974</td>\n",
       "      <td>5</td>\n",
       "      <td>37817</td>\n",
       "      <td>78322</td>\n",
       "      <td>71192</td>\n",
       "    </tr>\n",
       "    <tr>\n",
       "      <th>top</th>\n",
       "      <td>https://api.github.com/repos/iftg7n/Test/issue...</td>\n",
       "      <td>bug</td>\n",
       "      <td>2021-01-07T20:42:46Z</td>\n",
       "      <td>NONE</td>\n",
       "      <td>https://api.github.com/repos/libsdl-org/SDL</td>\n",
       "      <td>Updates for Hero Section</td>\n",
       "      <td>TBD</td>\n",
       "    </tr>\n",
       "    <tr>\n",
       "      <th>freq</th>\n",
       "      <td>8</td>\n",
       "      <td>40288</td>\n",
       "      <td>11</td>\n",
       "      <td>30543</td>\n",
       "      <td>338</td>\n",
       "      <td>61</td>\n",
       "      <td>224</td>\n",
       "    </tr>\n",
       "  </tbody>\n",
       "</table>\n",
       "</div>"
      ],
      "text/plain": [
       "                                                issue_url issue_label  \\\n",
       "count                                               80518       80518   \n",
       "unique                                              80138           3   \n",
       "top     https://api.github.com/repos/iftg7n/Test/issue...         bug   \n",
       "freq                                                    8       40288   \n",
       "\n",
       "            issue_created_at issue_author_association  \\\n",
       "count                  80518                    80518   \n",
       "unique                 79974                        5   \n",
       "top     2021-01-07T20:42:46Z                     NONE   \n",
       "freq                      11                    30543   \n",
       "\n",
       "                                     repository_url               issue_title  \\\n",
       "count                                         80518                     80518   \n",
       "unique                                        37817                     78322   \n",
       "top     https://api.github.com/repos/libsdl-org/SDL  Updates for Hero Section   \n",
       "freq                                            338                        61   \n",
       "\n",
       "       issue_body  \n",
       "count       72602  \n",
       "unique      71192  \n",
       "top           TBD  \n",
       "freq          224  "
      ]
     },
     "execution_count": 83,
     "metadata": {},
     "output_type": "execute_result"
    }
   ],
   "source": [
    "df.describe()"
   ]
  },
  {
   "cell_type": "code",
   "execution_count": 84,
   "id": "9d1f3b73-fa67-49fe-a130-c36db381e7c3",
   "metadata": {},
   "outputs": [
    {
     "data": {
      "text/plain": [
       "{'COLLABORATOR', 'CONTRIBUTOR', 'MEMBER', 'NONE', 'OWNER'}"
      ]
     },
     "execution_count": 84,
     "metadata": {},
     "output_type": "execute_result"
    }
   ],
   "source": [
    "set(df.issue_author_association)"
   ]
  },
  {
   "cell_type": "code",
   "execution_count": 85,
   "id": "3c2d6882-b733-4bb8-b594-15782d90567f",
   "metadata": {},
   "outputs": [
    {
     "data": {
      "text/plain": [
       "NONE            30543\n",
       "OWNER           17986\n",
       "CONTRIBUTOR     12522\n",
       "MEMBER           9843\n",
       "COLLABORATOR     9624\n",
       "Name: issue_author_association, dtype: int64"
      ]
     },
     "execution_count": 85,
     "metadata": {},
     "output_type": "execute_result"
    }
   ],
   "source": [
    "df.issue_author_association.value_counts()"
   ]
  },
  {
   "cell_type": "code",
   "execution_count": 86,
   "id": "6141e778-97c4-40d4-994a-135aaebd1766",
   "metadata": {},
   "outputs": [
    {
     "data": {
      "text/plain": [
       "bug            40288\n",
       "enhancement    33203\n",
       "question        7027\n",
       "Name: issue_label, dtype: int64"
      ]
     },
     "execution_count": 86,
     "metadata": {},
     "output_type": "execute_result"
    }
   ],
   "source": [
    "df.issue_label.value_counts()"
   ]
  },
  {
   "cell_type": "markdown",
   "id": "6f0f79b2-bf04-409f-a70f-0232f42bd83f",
   "metadata": {},
   "source": [
    "# Extract Repo Author, Repo Name and Issue number from URL"
   ]
  },
  {
   "cell_type": "code",
   "execution_count": 113,
   "id": "eec99f91-2b88-4298-ae3c-e6aceeee5d12",
   "metadata": {},
   "outputs": [],
   "source": [
    "def process_urls(repo_url, issue_url):\n",
    "    from urllib.parse import urlparse\n",
    "    author = []\n",
    "    repo = []\n",
    "    issue_number = []\n",
    "    for iss_url,rep_url in zip(issue_url,repo_url):\n",
    "        assert iss_url.startswith(rep_url)\n",
    "        parsed_url = urlparse(iss_url)\n",
    "        url_path = parsed_url.path.split('/')\n",
    "        auth, repo_name, _ ,iss_n = url_path[-4:]\n",
    "        author.append(auth)\n",
    "        repo.append(repo_name)\n",
    "        issue_number.append(int(iss_n))\n",
    "    return repo, author, issue_number"
   ]
  },
  {
   "cell_type": "markdown",
   "id": "e831c433-76d2-4ae9-b2d9-4394a079bf5d",
   "metadata": {},
   "source": [
    "# Add above extracted extra columns to original data"
   ]
  },
  {
   "cell_type": "code",
   "execution_count": 114,
   "id": "c6ecb7f4-d1b5-4794-aa48-cefc3411b151",
   "metadata": {},
   "outputs": [],
   "source": [
    "modified_df = {'repository':[], 'repo_author':[], 'issue_number':[]}\n",
    "rep, auth, iss = process_urls(df.repository_url, df.issue_url)\n",
    "\n",
    "modified_df['repository'] = rep\n",
    "modified_df['repo_author'] = auth\n",
    "modified_df['issue_number'] = iss\n",
    "\n",
    "modified_df = pd.DataFrame(modified_df)\n",
    "modified_df['issue_label'] = df.issue_label.tolist()\n",
    "modified_df['issue_author_association'] = df.issue_author_association.tolist()\n",
    "modified_df['issue_title'] = df.issue_title.tolist()\n",
    "modified_df['issue_body'] = df.issue_body.tolist()"
   ]
  },
  {
   "cell_type": "code",
   "execution_count": 115,
   "id": "9797a10b-dbc8-4806-9d82-d5409ebf38ff",
   "metadata": {},
   "outputs": [
    {
     "data": {
      "text/html": [
       "<div>\n",
       "<style scoped>\n",
       "    .dataframe tbody tr th:only-of-type {\n",
       "        vertical-align: middle;\n",
       "    }\n",
       "\n",
       "    .dataframe tbody tr th {\n",
       "        vertical-align: top;\n",
       "    }\n",
       "\n",
       "    .dataframe thead th {\n",
       "        text-align: right;\n",
       "    }\n",
       "</style>\n",
       "<table border=\"1\" class=\"dataframe\">\n",
       "  <thead>\n",
       "    <tr style=\"text-align: right;\">\n",
       "      <th></th>\n",
       "      <th>repository</th>\n",
       "      <th>repo_author</th>\n",
       "      <th>issue_number</th>\n",
       "      <th>issue_label</th>\n",
       "      <th>issue_author_association</th>\n",
       "      <th>issue_title</th>\n",
       "      <th>issue_body</th>\n",
       "    </tr>\n",
       "  </thead>\n",
       "  <tbody>\n",
       "    <tr>\n",
       "      <th>0</th>\n",
       "      <td>TIFF.jl</td>\n",
       "      <td>tlnagy</td>\n",
       "      <td>7</td>\n",
       "      <td>enhancement</td>\n",
       "      <td>NONE</td>\n",
       "      <td>ERROR: KeyError: key (TIFF.SAMPLEFORMAT_INT, 0...</td>\n",
       "      <td>One more error might need to be caught.\\r\\n`4D...</td>\n",
       "    </tr>\n",
       "    <tr>\n",
       "      <th>1</th>\n",
       "      <td>Twitch_Bot</td>\n",
       "      <td>tisboyo</td>\n",
       "      <td>57</td>\n",
       "      <td>enhancement</td>\n",
       "      <td>OWNER</td>\n",
       "      <td>Add database backup to dropbox</td>\n",
       "      <td>NaN</td>\n",
       "    </tr>\n",
       "    <tr>\n",
       "      <th>2</th>\n",
       "      <td>imgdanke</td>\n",
       "      <td>DrWhoCares</td>\n",
       "      <td>70</td>\n",
       "      <td>enhancement</td>\n",
       "      <td>OWNER</td>\n",
       "      <td>Add a button/method to open the Source or Outp...</td>\n",
       "      <td>Could also add a method to open up path to eac...</td>\n",
       "    </tr>\n",
       "    <tr>\n",
       "      <th>3</th>\n",
       "      <td>imgdanke</td>\n",
       "      <td>DrWhoCares</td>\n",
       "      <td>72</td>\n",
       "      <td>bug</td>\n",
       "      <td>OWNER</td>\n",
       "      <td>Processes are being started twice</td>\n",
       "      <td>At some point I refactored a few things and en...</td>\n",
       "    </tr>\n",
       "    <tr>\n",
       "      <th>4</th>\n",
       "      <td>AOT</td>\n",
       "      <td>Bean-1</td>\n",
       "      <td>3</td>\n",
       "      <td>bug</td>\n",
       "      <td>OWNER</td>\n",
       "      <td>Cannot add hp to wall</td>\n",
       "      <td>NaN</td>\n",
       "    </tr>\n",
       "  </tbody>\n",
       "</table>\n",
       "</div>"
      ],
      "text/plain": [
       "   repository repo_author  issue_number  issue_label issue_author_association  \\\n",
       "0     TIFF.jl      tlnagy             7  enhancement                     NONE   \n",
       "1  Twitch_Bot     tisboyo            57  enhancement                    OWNER   \n",
       "2    imgdanke  DrWhoCares            70  enhancement                    OWNER   \n",
       "3    imgdanke  DrWhoCares            72          bug                    OWNER   \n",
       "4         AOT      Bean-1             3          bug                    OWNER   \n",
       "\n",
       "                                         issue_title  \\\n",
       "0  ERROR: KeyError: key (TIFF.SAMPLEFORMAT_INT, 0...   \n",
       "1                     Add database backup to dropbox   \n",
       "2  Add a button/method to open the Source or Outp...   \n",
       "3                  Processes are being started twice   \n",
       "4                              Cannot add hp to wall   \n",
       "\n",
       "                                          issue_body  \n",
       "0  One more error might need to be caught.\\r\\n`4D...  \n",
       "1                                                NaN  \n",
       "2  Could also add a method to open up path to eac...  \n",
       "3  At some point I refactored a few things and en...  \n",
       "4                                                NaN  "
      ]
     },
     "execution_count": 115,
     "metadata": {},
     "output_type": "execute_result"
    }
   ],
   "source": [
    "modified_df.head()"
   ]
  },
  {
   "cell_type": "code",
   "execution_count": 91,
   "id": "ca7414fe-bf25-4370-8225-8e936e5cddd2",
   "metadata": {},
   "outputs": [
    {
     "data": {
      "text/plain": [
       "6      2020-04-07T09:08:50Z\n",
       "19     2020-11-27T07:17:21Z\n",
       "25     2021-01-02T19:35:34Z\n",
       "30     2021-01-02T20:55:34Z\n",
       "54     2020-12-29T15:34:35Z\n",
       "62     2016-06-18T09:14:04Z\n",
       "104    2021-01-02T22:23:54Z\n",
       "113    2020-10-11T20:25:04Z\n",
       "115    2018-05-04T13:51:50Z\n",
       "161    2020-12-31T05:28:38Z\n",
       "Name: issue_created_at, dtype: object"
      ]
     },
     "execution_count": 91,
     "metadata": {},
     "output_type": "execute_result"
    }
   ],
   "source": [
    "df.issue_created_at[:10] #Leave this for now, if issue number helps in classification then this might also be useful."
   ]
  },
  {
   "cell_type": "markdown",
   "id": "9a54a68a-bb23-4823-bce5-eae1be32175c",
   "metadata": {},
   "source": [
    "# Hypothesis : Issue number affects issue label"
   ]
  },
  {
   "cell_type": "code",
   "execution_count": 125,
   "id": "0b378a1a-0571-4e24-9536-8ead7dd8e902",
   "metadata": {},
   "outputs": [
    {
     "data": {
      "text/plain": [
       "enhancement    16611\n",
       "bug             9698\n",
       "question        1361\n",
       "Name: issue_label, dtype: int64"
      ]
     },
     "execution_count": 125,
     "metadata": {},
     "output_type": "execute_result"
    }
   ],
   "source": [
    "modified_df[modified_df['issue_number'] < 50].issue_label.value_counts()"
   ]
  },
  {
   "cell_type": "code",
   "execution_count": 129,
   "id": "486eb47f-a2a9-450c-ad81-a114aee2ddc8",
   "metadata": {},
   "outputs": [
    {
     "data": {
      "text/plain": [
       "bug            7625\n",
       "enhancement    7021\n",
       "question       1303\n",
       "Name: issue_label, dtype: int64"
      ]
     },
     "execution_count": 129,
     "metadata": {},
     "output_type": "execute_result"
    }
   ],
   "source": [
    "modified_df[(modified_df['issue_number'] > 50) & (modified_df['issue_number'] < 200) ].issue_label.value_counts()"
   ]
  },
  {
   "cell_type": "code",
   "execution_count": 127,
   "id": "d59f7bec-6d60-419a-ab7d-e08c0dd2eb8a",
   "metadata": {},
   "outputs": [
    {
     "data": {
      "text/plain": [
       "bug            40288\n",
       "enhancement    33203\n",
       "question        7027\n",
       "Name: issue_label, dtype: int64"
      ]
     },
     "execution_count": 127,
     "metadata": {},
     "output_type": "execute_result"
    }
   ],
   "source": [
    "modified_df.issue_label.value_counts()"
   ]
  },
  {
   "cell_type": "markdown",
   "id": "db1fe2b1-eff2-4222-bd76-57f11262ba38",
   "metadata": {},
   "source": [
    "### Distribution of labels depends on when the issue was opened - early issues ask for enhancement, later issues report bugs."
   ]
  },
  {
   "cell_type": "markdown",
   "id": "26e176a5-8e54-4df5-9065-a084ecc8d444",
   "metadata": {},
   "source": [
    "# Plot length distributions for issue body and title"
   ]
  },
  {
   "cell_type": "code",
   "execution_count": null,
   "id": "a1578704-0350-4275-ad85-10963ea2bece",
   "metadata": {},
   "outputs": [],
   "source": [
    "word_length_body = modified_df.issue_body.apply(lambda x: len(x.split()) if type(x)!=float else 0)"
   ]
  },
  {
   "cell_type": "code",
   "execution_count": 160,
   "id": "5a40d00b-d807-4b08-9db3-6b424683a7db",
   "metadata": {},
   "outputs": [
    {
     "name": "stderr",
     "output_type": "stream",
     "text": [
      "/home/shikharb/miniconda3/envs/tree/lib/python3.7/site-packages/seaborn/_decorators.py:43: FutureWarning: Pass the following variable as a keyword arg: x. From version 0.12, the only valid positional argument will be `data`, and passing other arguments without an explicit keyword will result in an error or misinterpretation.\n",
      "  FutureWarning\n"
     ]
    },
    {
     "data": {
      "text/plain": [
       "<AxesSubplot:xlabel='issue_body'>"
      ]
     },
     "execution_count": 160,
     "metadata": {},
     "output_type": "execute_result"
    },
    {
     "data": {
      "image/png": "[encoded data removed]",
      "text/plain": [
       "<Figure size 1728x576 with 1 Axes>"
      ]
     },
     "metadata": {},
     "output_type": "display_data"
    }
   ],
   "source": [
    "import seaborn as sns\n",
    "sns.set(rc={'figure.figsize':(24,8)})\n",
    "sns.violinplot(word_length_body[word_length_body<800]) "
   ]
  },
  {
   "cell_type": "code",
   "execution_count": 162,
   "id": "449d1d1b-6447-465b-8086-a43c1bc7e558",
   "metadata": {},
   "outputs": [
    {
     "data": {
      "text/plain": [
       "count    80518.000000\n",
       "mean        99.624121\n",
       "std        329.431910\n",
       "min          0.000000\n",
       "25%         15.000000\n",
       "50%         45.000000\n",
       "75%        107.000000\n",
       "max      21522.000000\n",
       "Name: issue_body, dtype: float64"
      ]
     },
     "execution_count": 162,
     "metadata": {},
     "output_type": "execute_result"
    }
   ],
   "source": [
    "word_length_body.describe()"
   ]
  },
  {
   "cell_type": "code",
   "execution_count": 183,
   "id": "3297920a-280b-4289-9d5d-dc23b6898494",
   "metadata": {},
   "outputs": [
    {
     "data": {
      "text/plain": [
       "0.9790978414764401"
      ]
     },
     "execution_count": 183,
     "metadata": {},
     "output_type": "execute_result"
    }
   ],
   "source": [
    "model_size = 512\n",
    "word_length_body[word_length_body < model_size].count() / len(word_length_body) \n",
    "# ~98% bodies can be covered with seq len of 512. No specific need to focus on models that process longer sequences- simple BERT etc might work well."
   ]
  },
  {
   "cell_type": "markdown",
   "id": "682b7977-b56c-4b39-b2be-7bfca78c6ac0",
   "metadata": {},
   "source": [
    "### ~98% bodies can be covered with seq len of 512. No specific need to focus on models that process longer sequences- simple BERT etc might work well."
   ]
  },
  {
   "cell_type": "code",
   "execution_count": 172,
   "id": "7dd9b0f7-510f-4e23-997b-27668b98dafe",
   "metadata": {},
   "outputs": [],
   "source": [
    "from nltk.tokenize import sent_tokenize\n",
    "sent_length_body = modified_df.issue_body.apply(lambda x: len(sent_tokenize(x)) if type(x)!=float else 0)"
   ]
  },
  {
   "cell_type": "code",
   "execution_count": 178,
   "id": "d57c81b3-dcc6-45a2-83b8-a9f5b82c4b42",
   "metadata": {},
   "outputs": [
    {
     "name": "stderr",
     "output_type": "stream",
     "text": [
      "/home/shikharb/miniconda3/envs/tree/lib/python3.7/site-packages/seaborn/_decorators.py:43: FutureWarning: Pass the following variable as a keyword arg: x. From version 0.12, the only valid positional argument will be `data`, and passing other arguments without an explicit keyword will result in an error or misinterpretation.\n",
      "  FutureWarning\n"
     ]
    },
    {
     "data": {
      "text/plain": [
       "<AxesSubplot:xlabel='issue_body'>"
      ]
     },
     "execution_count": 178,
     "metadata": {},
     "output_type": "execute_result"
    },
    {
     "data": {
      "image/png": "[encoded data removed]",
      "text/plain": [
       "<Figure size 1728x576 with 1 Axes>"
      ]
     },
     "metadata": {},
     "output_type": "display_data"
    }
   ],
   "source": [
    "sns.violinplot(sent_length_body[sent_length_body < 50])"
   ]
  },
  {
   "cell_type": "code",
   "execution_count": 179,
   "id": "17534a07-487e-43a8-8c04-ac10f3563dc1",
   "metadata": {},
   "outputs": [
    {
     "data": {
      "text/plain": [
       "count    80518.000000\n",
       "mean         4.502223\n",
       "std         12.851075\n",
       "min          0.000000\n",
       "25%          1.000000\n",
       "50%          3.000000\n",
       "75%          5.000000\n",
       "max       1837.000000\n",
       "Name: issue_body, dtype: float64"
      ]
     },
     "execution_count": 179,
     "metadata": {},
     "output_type": "execute_result"
    }
   ],
   "source": [
    "sent_length_body.describe()"
   ]
  },
  {
   "cell_type": "code",
   "execution_count": 187,
   "id": "e58145f5-726e-4dca-9ef4-8e826aa10306",
   "metadata": {},
   "outputs": [
    {
     "name": "stderr",
     "output_type": "stream",
     "text": [
      "/home/shikharb/miniconda3/envs/tree/lib/python3.7/site-packages/seaborn/_decorators.py:43: FutureWarning: Pass the following variable as a keyword arg: x. From version 0.12, the only valid positional argument will be `data`, and passing other arguments without an explicit keyword will result in an error or misinterpretation.\n",
      "  FutureWarning\n"
     ]
    },
    {
     "data": {
      "text/plain": [
       "<AxesSubplot:xlabel='issue_title'>"
      ]
     },
     "execution_count": 187,
     "metadata": {},
     "output_type": "execute_result"
    },
    {
     "data": {
      "image/png": "[encoded data removed]",
      "text/plain": [
       "<Figure size 1728x576 with 1 Axes>"
      ]
     },
     "metadata": {},
     "output_type": "display_data"
    }
   ],
   "source": [
    "word_length_title = modified_df.issue_title.apply(lambda x: len(x.split()) if type(x)!=float else 0)\n",
    "sns.violinplot(word_length_title[word_length_title<50])"
   ]
  },
  {
   "cell_type": "code",
   "execution_count": 188,
   "id": "c11b44bb-e505-41ce-b802-f3b5ed6505d8",
   "metadata": {},
   "outputs": [
    {
     "data": {
      "text/plain": [
       "count    80518.000000\n",
       "mean         6.698353\n",
       "std          3.872237\n",
       "min          1.000000\n",
       "25%          4.000000\n",
       "50%          6.000000\n",
       "75%          9.000000\n",
       "max        104.000000\n",
       "Name: issue_title, dtype: float64"
      ]
     },
     "execution_count": 188,
     "metadata": {},
     "output_type": "execute_result"
    }
   ],
   "source": [
    "word_length_title.describe()"
   ]
  },
  {
   "cell_type": "markdown",
   "id": "4d3b2178-11ea-41ae-b55d-0f6d15612681",
   "metadata": {},
   "source": [
    "### 50 seems to be a good cutoff for title length"
   ]
  },
  {
   "cell_type": "code",
   "execution_count": 195,
   "id": "1345d88c-0946-4b30-b84e-3625f3e40dc6",
   "metadata": {},
   "outputs": [],
   "source": [
    "sent_length_title = modified_df.issue_title.apply(lambda x: len(sent_tokenize(x)) if type(x)!=float else 0)"
   ]
  },
  {
   "cell_type": "code",
   "execution_count": 197,
   "id": "b1f0f98b-21ff-4cb2-950c-4dc3df8f616b",
   "metadata": {},
   "outputs": [
    {
     "name": "stderr",
     "output_type": "stream",
     "text": [
      "/home/shikharb/miniconda3/envs/tree/lib/python3.7/site-packages/seaborn/_decorators.py:43: FutureWarning: Pass the following variable as a keyword arg: x. From version 0.12, the only valid positional argument will be `data`, and passing other arguments without an explicit keyword will result in an error or misinterpretation.\n",
      "  FutureWarning\n"
     ]
    },
    {
     "data": {
      "text/plain": [
       "<AxesSubplot:xlabel='issue_title'>"
      ]
     },
     "execution_count": 197,
     "metadata": {},
     "output_type": "execute_result"
    },
    {
     "data": {
      "image/png": "[encoded data removed]",
      "text/plain": [
       "<Figure size 1728x576 with 1 Axes>"
      ]
     },
     "metadata": {},
     "output_type": "display_data"
    }
   ],
   "source": [
    "sns.violinplot(sent_length_title[sent_length_title<10])"
   ]
  },
  {
   "cell_type": "code",
   "execution_count": 198,
   "id": "728c5531-d30d-49ac-be1e-bfff04dc073c",
   "metadata": {},
   "outputs": [
    {
     "data": {
      "text/plain": [
       "count    80518.000000\n",
       "mean         1.014084\n",
       "std          0.135304\n",
       "min          1.000000\n",
       "25%          1.000000\n",
       "50%          1.000000\n",
       "75%          1.000000\n",
       "max          8.000000\n",
       "Name: issue_title, dtype: float64"
      ]
     },
     "execution_count": 198,
     "metadata": {},
     "output_type": "execute_result"
    }
   ],
   "source": [
    "sent_length_title.describe()"
   ]
  },
  {
   "cell_type": "markdown",
   "id": "74f38802-953a-4019-9eb6-6ec9706bdef7",
   "metadata": {},
   "source": [
    "# Lengths by labels"
   ]
  },
  {
   "cell_type": "code",
   "execution_count": 201,
   "id": "85875a01-9c96-4e71-beae-3c1c2cbbde66",
   "metadata": {},
   "outputs": [
    {
     "name": "stdout",
     "output_type": "stream",
     "text": [
      "bug\n",
      "count    40288.000000\n",
      "mean       130.520080\n",
      "std        417.496202\n",
      "min          0.000000\n",
      "25%         22.000000\n",
      "50%         62.000000\n",
      "75%        137.000000\n",
      "max      21522.000000\n",
      "Name: issue_body, dtype: float64\n",
      "------------------------------------------------------------\n",
      "enhancement\n",
      "count    33203.000000\n",
      "mean        53.974099\n",
      "std        101.068355\n",
      "min          0.000000\n",
      "25%          8.000000\n",
      "50%         27.000000\n",
      "75%         65.000000\n",
      "max       5361.000000\n",
      "Name: issue_body, dtype: float64\n",
      "------------------------------------------------------------\n",
      "question\n",
      "count     7027.000000\n",
      "mean       138.186993\n",
      "std        423.266256\n",
      "min          0.000000\n",
      "25%         34.000000\n",
      "50%         72.000000\n",
      "75%        145.000000\n",
      "max      20054.000000\n",
      "Name: issue_body, dtype: float64\n",
      "------------------------------------------------------------\n"
     ]
    }
   ],
   "source": [
    "for category in ['bug','enhancement','question']:\n",
    "    l_word_length_body = modified_df[modified_df['issue_label']==category].issue_body.apply(lambda x: len(x.split()) if type(x)!=float else 0)\n",
    "    print(category)\n",
    "    print(l_word_length_body.describe())\n",
    "    print('---'*20)"
   ]
  },
  {
   "cell_type": "markdown",
   "id": "dd838a7e-3dd0-4c17-8d91-2ccc3b43f750",
   "metadata": {},
   "source": [
    "### Median counts are different, bugs and questions usually have more words in body and enhancement requests are short?"
   ]
  },
  {
   "cell_type": "code",
   "execution_count": 202,
   "id": "25386d6e-4aaa-46b0-a9dd-95502744c5ca",
   "metadata": {},
   "outputs": [
    {
     "name": "stdout",
     "output_type": "stream",
     "text": [
      "bug\n",
      "count    40288.000000\n",
      "mean         7.375769\n",
      "std          3.953550\n",
      "min          1.000000\n",
      "25%          5.000000\n",
      "50%          7.000000\n",
      "75%          9.000000\n",
      "max        104.000000\n",
      "Name: issue_title, dtype: float64\n",
      "------------------------------------------------------------\n",
      "enhancement\n",
      "count    33203.000000\n",
      "mean         5.848447\n",
      "std          3.506211\n",
      "min          1.000000\n",
      "25%          3.000000\n",
      "50%          5.000000\n",
      "75%          8.000000\n",
      "max         74.000000\n",
      "Name: issue_title, dtype: float64\n",
      "------------------------------------------------------------\n",
      "question\n",
      "count    7027.000000\n",
      "mean        6.830369\n",
      "std         4.248504\n",
      "min         1.000000\n",
      "25%         4.000000\n",
      "50%         6.000000\n",
      "75%         9.000000\n",
      "max        76.000000\n",
      "Name: issue_title, dtype: float64\n",
      "------------------------------------------------------------\n"
     ]
    }
   ],
   "source": [
    "for category in ['bug','enhancement','question']:\n",
    "    l_word_length_title = modified_df[modified_df['issue_label']==category].issue_title.apply(lambda x: len(x.split()) if type(x)!=float else 0)\n",
    "    print(category)\n",
    "    print(l_word_length_title.describe())\n",
    "    print('---'*20)"
   ]
  },
  {
   "cell_type": "markdown",
   "id": "91a6c98c-fc6e-4895-93d1-8e755373daf8",
   "metadata": {},
   "source": [
    "# Issue author assoc by labels"
   ]
  },
  {
   "cell_type": "code",
   "execution_count": 208,
   "id": "9704ee6c-9b80-40cf-b43e-8348ea510f1f",
   "metadata": {},
   "outputs": [
    {
     "name": "stdout",
     "output_type": "stream",
     "text": [
      "bug\n",
      "NONE            17671\n",
      "CONTRIBUTOR      6728\n",
      "OWNER            6234\n",
      "COLLABORATOR     4847\n",
      "MEMBER           4808\n",
      "Name: issue_author_association, dtype: int64\n",
      "------------------------------------------------------------\n",
      "enhancement\n",
      "OWNER           11450\n",
      "NONE             7128\n",
      "CONTRIBUTOR      5319\n",
      "MEMBER           4787\n",
      "COLLABORATOR     4519\n",
      "Name: issue_author_association, dtype: int64\n",
      "------------------------------------------------------------\n",
      "question\n",
      "NONE            5744\n",
      "CONTRIBUTOR      475\n",
      "OWNER            302\n",
      "COLLABORATOR     258\n",
      "MEMBER           248\n",
      "Name: issue_author_association, dtype: int64\n",
      "------------------------------------------------------------\n"
     ]
    }
   ],
   "source": [
    "for category in ['bug','enhancement','question']:\n",
    "    assoc = modified_df[modified_df['issue_label']==category].issue_author_association\n",
    "    print(category)\n",
    "    print(assoc.value_counts())\n",
    "    print('---'*20)"
   ]
  },
  {
   "cell_type": "markdown",
   "id": "837ada7f-75b0-42b8-b18d-55db964de12c",
   "metadata": {},
   "source": [
    "### Owners drive enhancement, random (None) people report bugs and ask questions"
   ]
  },
  {
   "cell_type": "markdown",
   "id": "39961c5b-c9e4-403b-a355-ccb2ec0a6022",
   "metadata": {},
   "source": [
    "# Top n-grams wrts labels"
   ]
  },
  {
   "cell_type": "code",
   "execution_count": 257,
   "id": "7527e876-6b55-452e-97bc-24637b3e3029",
   "metadata": {},
   "outputs": [],
   "source": [
    "def get_n_grams(df, n_grams, top_n = 1, field = 'title'):\n",
    "    from sklearn.feature_extraction.text import CountVectorizer\n",
    "    df_words = pd.DataFrame()\n",
    "    for label in df['issue_label'].unique():\n",
    "        filtered_df = df.query('issue_label == @label')\n",
    "        if field == 'title':\n",
    "            texts = filtered_df['issue_title'].tolist()\n",
    "        elif field == 'body':\n",
    "            texts = filtered_df['issue_body'].tolist()\n",
    "        for i,text in enumerate(texts):\n",
    "            t = text.strip() if type(text)!=float else ''\n",
    "            texts[i]=t\n",
    "        vec = CountVectorizer(lowercase = True, stop_words = 'english', ngram_range=(n_grams, n_grams)).fit(texts)\n",
    "        bag_of_words = vec.transform(texts)\n",
    "        sum_words = bag_of_words.sum(axis=0)\n",
    "        words_freq = [(word, sum_words[0, idx]) for word, idx in vec.vocabulary_.items()]\n",
    "        cvec_df = pd.DataFrame.from_records(words_freq, columns= ['words', 'counts']).sort_values(by=\"counts\", ascending=False)\n",
    "        cvec_df.insert(0, \"Label\", label)\n",
    "        cvec_df = cvec_df.iloc[:top_n,:]\n",
    "        df_words = df_words.append(cvec_df)\n",
    "        print('Processed', label)\n",
    "    return df_words"
   ]
  },
  {
   "cell_type": "code",
   "execution_count": 258,
   "id": "139a20a2-b3a7-4ddb-ae9b-099f56d1b099",
   "metadata": {},
   "outputs": [],
   "source": [
    "def plot_ngram(df, type = \"bigrams\"):\n",
    "    import matplotlib.pyplot as plt\n",
    "    plt.figure(figsize=(15, 12))\n",
    "    plt.subplots_adjust(hspace=0.5)\n",
    "\n",
    "    for n, dt in enumerate(df.Label.unique()):\n",
    "        ax = plt.subplot(4, 2, n + 1)\n",
    "        ax.set_title(f\"Most used {type} in {dt}\")\n",
    "        data = df.query('Label == @dt')[['words', 'counts']].set_index(\"words\").sort_values(by = \"counts\", ascending = True)\n",
    "        data.plot(ax=ax, kind = 'barh')\n",
    "        plt.ylabel(\"\")\n",
    "    plt.tight_layout()\n",
    "    plt.show()"
   ]
  },
  {
   "cell_type": "code",
   "execution_count": 260,
   "id": "39c16f61-a4d8-4149-a412-a3e9a3ebd4f2",
   "metadata": {
    "tags": []
   },
   "outputs": [
    {
     "name": "stdout",
     "output_type": "stream",
     "text": [
      "Processed enhancement\n",
      "Processed bug\n",
      "Processed question\n"
     ]
    },
    {
     "data": {
      "image/png": "[encoded data removed]",
      "text/plain": [
       "<Figure size 1080x864 with 3 Axes>"
      ]
     },
     "metadata": {},
     "output_type": "display_data"
    }
   ],
   "source": [
    "bigrams = get_n_grams(df, n_grams = 2, top_n=10, field = 'title')\n",
    "plot_ngram(bigrams)"
   ]
  },
  {
   "cell_type": "code",
   "execution_count": 261,
   "id": "d0aab8f2-170d-4dfe-9ec6-ee4e00b73bf3",
   "metadata": {},
   "outputs": [
    {
     "name": "stdout",
     "output_type": "stream",
     "text": [
      "Processed enhancement\n",
      "Processed bug\n",
      "Processed question\n"
     ]
    },
    {
     "data": {
      "image/png": "[encoded data removed]",
      "text/plain": [
       "<Figure size 1080x864 with 3 Axes>"
      ]
     },
     "metadata": {},
     "output_type": "display_data"
    }
   ],
   "source": [
    "bigrams = get_n_grams(df, n_grams = 2, top_n=10, field = 'body')\n",
    "plot_ngram(bigrams)"
   ]
  },
  {
   "cell_type": "markdown",
   "id": "a60b6fb6-6315-4966-b5d8-56c20c1e3847",
   "metadata": {},
   "source": [
    "### Observations\n",
    "- N-grams in title seem to be very relevant!\n",
    "- N-grams in body are garbage. Will need cleaning?"
   ]
  },
  {
   "cell_type": "code",
   "execution_count": null,
   "id": "00684cf5-f844-457b-b527-cd4c9bb8a3c6",
   "metadata": {},
   "outputs": [],
   "source": []
  }
 ],
 "metadata": {
  "kernelspec": {
   "display_name": "Python 3",
   "language": "python",
   "name": "python3"
  },
  "language_info": {
   "codemirror_mode": {
    "name": "ipython",
    "version": 3
   },
   "file_extension": ".py",
   "mimetype": "text/x-python",
   "name": "python",
   "nbconvert_exporter": "python",
   "pygments_lexer": "ipython3",
   "version": "3.7.10"
  }
 },
 "nbformat": 4,
 "nbformat_minor": 5
}
